{
 "cells": [
  {
   "cell_type": "markdown",
   "metadata": {},
   "source": [
    "## Explaining the Iterables and Lazy Iterators"
   ]
  },
  {
   "cell_type": "code",
   "execution_count": 1,
   "metadata": {},
   "outputs": [],
   "source": [
    "from session11 import *\n",
    "from custompolygon import *\n"
   ]
  },
  {
   "cell_type": "markdown",
   "metadata": {},
   "source": [
    "# Goal 1 "
   ]
  },
  {
   "cell_type": "markdown",
   "metadata": {},
   "source": [
    "### Refactor the Polygon class so that all the calculated properties are lazy properties, i.e. they should still be calculated ## properties, but they should not have to get recalculated more than once (since we made our Polygon class \"immutable\")."
   ]
  },
  {
   "cell_type": "markdown",
   "metadata": {},
   "source": [
    "### Calling the Polygon Class and calling the variables for the first time. As you can see the first time everything is getting calculated on the fly\n",
    "\n",
    "### Also some of the values like edges are being called inside other formula and as you can see they are picking from calculated value"
   ]
  },
  {
   "cell_type": "code",
   "execution_count": 3,
   "metadata": {},
   "outputs": [
    {
     "name": "stdout",
     "output_type": "stream",
     "text": [
      "Calculating for the first time\n",
      "picking from calculated value\n",
      "Calculating for the first time\n",
      "Calculating for the first time\n",
      "Calculating for the first time\n",
      "Calculating for the first time\n",
      "picking from calculated value\n",
      "picking from calculated value\n",
      "Calculating for the first time\n",
      "picking from calculated value\n",
      "number of vertices = 25 number of edges = 25 Edge Length = 1.503998802771651 interior angle = 165.6 apothem = 5.952688207886867 area = 111.91044922418466 perimeter = 37.599970069291274\n"
     ]
    }
   ],
   "source": [
    "p = Polygon(25,6)\n",
    "print(f'number of vertices = {p.count_edges} number of edges = {p.count_edges} Edge Length = {p.side_length} interior angle = {p.interior_angle} apothem = {p.apothem} area = {p.area} perimeter = {p.perimeter}')"
   ]
  },
  {
   "cell_type": "markdown",
   "metadata": {},
   "source": [
    "### Now let's call print again and as you can see everything is getting picked from calculated value"
   ]
  },
  {
   "cell_type": "code",
   "execution_count": 4,
   "metadata": {},
   "outputs": [
    {
     "name": "stdout",
     "output_type": "stream",
     "text": [
      "picking from calculated value\n",
      "picking from calculated value\n",
      "picking from calculated value\n",
      "picking from calculated value\n",
      "picking from calculated value\n",
      "picking from calculated value\n",
      "picking from calculated value\n",
      "number of vertices = 25 number of edges = 25 Edge Length = 1.503998802771651 interior angle = 165.6 apothem = 5.952688207886867 area = 111.91044922418466 perimeter = 37.599970069291274\n"
     ]
    }
   ],
   "source": [
    "print(f'number of vertices = {p.count_edges} number of edges = {p.count_edges} Edge Length = {p.side_length} interior angle = {p.interior_angle} apothem = {p.apothem} area = {p.area} perimeter = {p.perimeter}')"
   ]
  },
  {
   "cell_type": "markdown",
   "metadata": {},
   "source": [
    "# Goal 2 "
   ]
  },
  {
   "cell_type": "markdown",
   "metadata": {},
   "source": [
    "### Refactor the Polygons (sequence) type, into an iterable. Make sure also that the elements in the iterator are computed lazily - i.e. you can no longer use a list as an underlying storage mechanism for your polygons."
   ]
  },
  {
   "cell_type": "markdown",
   "metadata": {},
   "source": [
    "### As you can see we are using iterator and iterable to print next values\n",
    "\n",
    "### p2 is an instance of Polygons class and we are using iterator on top p2 instance and accessing values inside.\n",
    "\n",
    "### We are using two print statements to show that only the first time the value is calculated and second time onwards it is using calculated value."
   ]
  },
  {
   "cell_type": "code",
   "execution_count": 5,
   "metadata": {},
   "outputs": [
    {
     "name": "stdout",
     "output_type": "stream",
     "text": [
      "Calculating for the first time\n",
      "picking from calculated value\n",
      "Calculating for the first time\n",
      "Calculating for the first time\n",
      "Calculating for the first time\n",
      "Calculating for the first time\n",
      "picking from calculated value\n",
      "picking from calculated value\n",
      "Calculating for the first time\n",
      "picking from calculated value\n",
      "number of vertices = 3 number of edges = 3 Edge Length = 13.856406460551018 interior angle = 60.0 apothem = 4.000000000000001 area = 83.13843876330613 perimeter = 41.569219381653056\n",
      "picking from calculated value\n",
      "picking from calculated value\n",
      "picking from calculated value\n",
      "picking from calculated value\n",
      "picking from calculated value\n",
      "picking from calculated value\n",
      "picking from calculated value\n",
      "number of vertices = 3 number of edges = 3 Edge Length = 13.856406460551018 interior angle = 60.0 apothem = 4.000000000000001 area = 83.13843876330613 perimeter = 41.569219381653056\n",
      "Calculating for the first time\n",
      "picking from calculated value\n",
      "Calculating for the first time\n",
      "Calculating for the first time\n",
      "Calculating for the first time\n",
      "Calculating for the first time\n",
      "picking from calculated value\n",
      "picking from calculated value\n",
      "Calculating for the first time\n",
      "picking from calculated value\n",
      "number of vertices = 4 number of edges = 4 Edge Length = 11.313708498984761 interior angle = 90.0 apothem = 5.656854249492381 area = 128.00000000000003 perimeter = 45.254833995939045\n",
      "picking from calculated value\n",
      "picking from calculated value\n",
      "picking from calculated value\n",
      "picking from calculated value\n",
      "picking from calculated value\n",
      "picking from calculated value\n",
      "picking from calculated value\n",
      "number of vertices = 4 number of edges = 4 Edge Length = 11.313708498984761 interior angle = 90.0 apothem = 5.656854249492381 area = 128.00000000000003 perimeter = 45.254833995939045\n",
      "Calculating for the first time\n",
      "picking from calculated value\n",
      "Calculating for the first time\n",
      "Calculating for the first time\n",
      "Calculating for the first time\n",
      "Calculating for the first time\n",
      "picking from calculated value\n",
      "picking from calculated value\n",
      "Calculating for the first time\n",
      "picking from calculated value\n",
      "number of vertices = 5 number of edges = 5 Edge Length = 9.40456403667957 interior angle = 108.0 apothem = 6.47213595499958 area = 152.16904260722458 perimeter = 47.022820183397855\n",
      "picking from calculated value\n",
      "picking from calculated value\n",
      "picking from calculated value\n",
      "picking from calculated value\n",
      "picking from calculated value\n",
      "picking from calculated value\n",
      "picking from calculated value\n",
      "number of vertices = 5 number of edges = 5 Edge Length = 9.40456403667957 interior angle = 108.0 apothem = 6.47213595499958 area = 152.16904260722458 perimeter = 47.022820183397855\n",
      "Calculating for the first time\n",
      "picking from calculated value\n",
      "Calculating for the first time\n",
      "Calculating for the first time\n",
      "Calculating for the first time\n",
      "Calculating for the first time\n",
      "picking from calculated value\n",
      "picking from calculated value\n",
      "Calculating for the first time\n",
      "picking from calculated value\n",
      "number of vertices = 6 number of edges = 6 Edge Length = 7.999999999999999 interior angle = 120.0 apothem = 6.92820323027551 area = 166.2768775266122 perimeter = 47.99999999999999\n",
      "picking from calculated value\n",
      "picking from calculated value\n",
      "picking from calculated value\n",
      "picking from calculated value\n",
      "picking from calculated value\n",
      "picking from calculated value\n",
      "picking from calculated value\n",
      "number of vertices = 6 number of edges = 6 Edge Length = 7.999999999999999 interior angle = 120.0 apothem = 6.92820323027551 area = 166.2768775266122 perimeter = 47.99999999999999\n",
      "Calculating for the first time\n",
      "picking from calculated value\n",
      "Calculating for the first time\n",
      "Calculating for the first time\n",
      "Calculating for the first time\n",
      "Calculating for the first time\n",
      "picking from calculated value\n",
      "picking from calculated value\n",
      "Calculating for the first time\n",
      "picking from calculated value\n",
      "number of vertices = 7 number of edges = 7 Edge Length = 6.94213982588093 interior angle = 128.57142857142858 apothem = 7.207750943219353 area = 175.1302520728387 perimeter = 48.59497878116651\n",
      "picking from calculated value\n",
      "picking from calculated value\n",
      "picking from calculated value\n",
      "picking from calculated value\n",
      "picking from calculated value\n",
      "picking from calculated value\n",
      "picking from calculated value\n",
      "number of vertices = 7 number of edges = 7 Edge Length = 6.94213982588093 interior angle = 128.57142857142858 apothem = 7.207750943219353 area = 175.1302520728387 perimeter = 48.59497878116651\n",
      "Calculating for the first time\n",
      "picking from calculated value\n",
      "Calculating for the first time\n",
      "Calculating for the first time\n",
      "Calculating for the first time\n",
      "Calculating for the first time\n",
      "picking from calculated value\n",
      "picking from calculated value\n",
      "Calculating for the first time\n",
      "picking from calculated value\n",
      "number of vertices = 8 number of edges = 8 Edge Length = 6.1229349178414365 interior angle = 135.0 apothem = 7.391036260090294 area = 181.01933598375618 perimeter = 48.98347934273149\n",
      "picking from calculated value\n",
      "picking from calculated value\n",
      "picking from calculated value\n",
      "picking from calculated value\n",
      "picking from calculated value\n",
      "picking from calculated value\n",
      "picking from calculated value\n",
      "number of vertices = 8 number of edges = 8 Edge Length = 6.1229349178414365 interior angle = 135.0 apothem = 7.391036260090294 area = 181.01933598375618 perimeter = 48.98347934273149\n",
      "Calculating for the first time\n",
      "picking from calculated value\n",
      "Calculating for the first time\n",
      "Calculating for the first time\n",
      "Calculating for the first time\n",
      "Calculating for the first time\n",
      "picking from calculated value\n",
      "picking from calculated value\n",
      "Calculating for the first time\n",
      "picking from calculated value\n",
      "number of vertices = 9 number of edges = 9 Edge Length = 5.472322293210699 interior angle = 140.0 apothem = 7.517540966287267 area = 185.12283158972335 perimeter = 49.2509006388963\n",
      "picking from calculated value\n",
      "picking from calculated value\n",
      "picking from calculated value\n",
      "picking from calculated value\n",
      "picking from calculated value\n",
      "picking from calculated value\n",
      "picking from calculated value\n",
      "number of vertices = 9 number of edges = 9 Edge Length = 5.472322293210699 interior angle = 140.0 apothem = 7.517540966287267 area = 185.12283158972335 perimeter = 49.2509006388963\n",
      "Calculating for the first time\n",
      "picking from calculated value\n",
      "Calculating for the first time\n",
      "Calculating for the first time\n",
      "Calculating for the first time\n",
      "Calculating for the first time\n",
      "picking from calculated value\n",
      "picking from calculated value\n",
      "Calculating for the first time\n",
      "picking from calculated value\n",
      "number of vertices = 10 number of edges = 10 Edge Length = 4.944271909999158 interior angle = 144.0 apothem = 7.608452130361228 area = 188.0912807335914 perimeter = 49.442719099991585\n",
      "picking from calculated value\n",
      "picking from calculated value\n",
      "picking from calculated value\n",
      "picking from calculated value\n",
      "picking from calculated value\n",
      "picking from calculated value\n",
      "picking from calculated value\n",
      "number of vertices = 10 number of edges = 10 Edge Length = 4.944271909999158 interior angle = 144.0 apothem = 7.608452130361228 area = 188.0912807335914 perimeter = 49.442719099991585\n"
     ]
    }
   ],
   "source": [
    "p2 = Polygons(10,8)\n",
    "p = iter(p2)\n",
    "for p in p:\n",
    "    print(f'number of vertices = {p.count_edges} number of edges = {p.count_edges} Edge Length = {p.side_length} interior angle = {p.interior_angle} apothem = {p.apothem} area = {p.area} perimeter = {p.perimeter}')\n",
    "    print(f'number of vertices = {p.count_edges} number of edges = {p.count_edges} Edge Length = {p.side_length} interior angle = {p.interior_angle} apothem = {p.apothem} area = {p.area} perimeter = {p.perimeter}')"
   ]
  }
 ],
 "metadata": {
  "kernelspec": {
   "display_name": "Python 3",
   "language": "python",
   "name": "python3"
  },
  "language_info": {
   "codemirror_mode": {
    "name": "ipython",
    "version": 3
   },
   "file_extension": ".py",
   "mimetype": "text/x-python",
   "name": "python",
   "nbconvert_exporter": "python",
   "pygments_lexer": "ipython3",
   "version": "3.6.5"
  }
 },
 "nbformat": 4,
 "nbformat_minor": 2
}
